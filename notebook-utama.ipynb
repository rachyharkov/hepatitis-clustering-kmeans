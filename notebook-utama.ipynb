{
 "cells": [
  {
   "cell_type": "markdown",
   "metadata": {},
   "source": [
    "Persiapan data hepatitis"
   ]
  },
  {
   "cell_type": "code",
   "execution_count": null,
   "metadata": {},
   "outputs": [],
   "source": [
    "import pandas as pd\n",
    "\n",
    "df = pd.read_csv('hepatitis.csv', delimiter=',')\n",
    "# df.drop(['No'], axis=1, inplace=True)\n",
    "df.head()"
   ]
  },
  {
   "cell_type": "markdown",
   "metadata": {},
   "source": [
    "Melihat status status setiap kolom untuk diketahui jenis data nya"
   ]
  },
  {
   "cell_type": "code",
   "execution_count": null,
   "metadata": {},
   "outputs": [],
   "source": [
    "df.info()"
   ]
  },
  {
   "cell_type": "markdown",
   "metadata": {},
   "source": [
    "Terlihat bahwa terdapat jumlah Non-null yang tidak rata, untuk lebih pasti lagi, kita bisa melihat jumlah data yang hilang dengan mengetahui presentase data yang hilang"
   ]
  },
  {
   "cell_type": "code",
   "execution_count": null,
   "metadata": {},
   "outputs": [],
   "source": [
    "df_null = round(100*(df.isnull().sum())/len(df), 2)\n",
    "df_null"
   ]
  },
  {
   "cell_type": "markdown",
   "metadata": {},
   "source": [
    "Dari hasil diatas, terlihat bahwa terdapat beberapa kolom yang presentase nilai kosongnya lebih dari 0 persen, untuk itu kita akan menghapus kolom yang memiliki presentase nilai kosong lebih dari 0 persen dengan menggunakan fungsi `dropna()`, lalu cek lagi apakah jumlah datanya selaras dengan fungsi `info()`"
   ]
  },
  {
   "cell_type": "code",
   "execution_count": null,
   "metadata": {},
   "outputs": [],
   "source": [
    "df = df.dropna()\n",
    "df.info()"
   ]
  },
  {
   "cell_type": "code",
   "execution_count": null,
   "metadata": {},
   "outputs": [],
   "source": [
    "df_numeric = df._get_numeric_data()\n",
    "df_numeric.head()"
   ]
  },
  {
   "cell_type": "code",
   "execution_count": null,
   "metadata": {},
   "outputs": [],
   "source": [
    "df_numeric.drop(['histology'], axis=1, inplace=True)\n",
    "df_numeric.drop(['antivirals'], axis=1, inplace=True)\n",
    "\n",
    "df_numeric.head()"
   ]
  },
  {
   "cell_type": "markdown",
   "metadata": {},
   "source": [
    "Looks good!!, saatnya mengetahui korelasi antar feature/kolom dengan menggunakan fungsi `corr()`"
   ]
  },
  {
   "cell_type": "code",
   "execution_count": null,
   "metadata": {},
   "outputs": [],
   "source": [
    "import seaborn as sns\n",
    "import matplotlib.pyplot as plt\n",
    "\n",
    "corr = df_numeric.corr()\n",
    "print(corr)\n",
    "plt.figure(figsize=(10, 10))\n",
    "sns.heatmap(corr, annot=True, fmt='.2f')\n",
    "plt.show()"
   ]
  },
  {
   "cell_type": "code",
   "execution_count": null,
   "metadata": {},
   "outputs": [],
   "source": [
    "# plot every column against each other\n",
    "pd.plotting.scatter_matrix(df_numeric, figsize=(30, 30), diagonal='kde')\n",
    "plt.show()"
   ]
  },
  {
   "cell_type": "code",
   "execution_count": null,
   "metadata": {},
   "outputs": [],
   "source": [
    "# label the data using sklearn.preprocessing.LabelEncoder\n",
    "from sklearn.preprocessing import LabelEncoder\n",
    "\n",
    "le = LabelEncoder()\n",
    "df_labelled = df_numeric.apply(le.fit_transform)\n",
    "df_labelled.tail()\n"
   ]
  },
  {
   "cell_type": "code",
   "execution_count": null,
   "metadata": {},
   "outputs": [],
   "source": [
    "# transform the data using sklearn.preprocessing.StandardScaler\n",
    "from sklearn.preprocessing import MinMaxScaler\n",
    "\n",
    "scaler = MinMaxScaler()\n",
    "df_scaled = pd.DataFrame(scaler.fit_transform(df_labelled), columns=df_labelled.columns)\n",
    "# show first 5 rows and last 5 rows\n",
    "df_scaled.head()\n"
   ]
  },
  {
   "cell_type": "code",
   "execution_count": null,
   "metadata": {},
   "outputs": [],
   "source": [
    "# find correlation between features then plot it\n",
    "import seaborn as sns\n",
    "import matplotlib.pyplot as plt\n",
    "\n",
    "corr = df_scaled.corr()\n",
    "print(corr)\n",
    "plt.figure(figsize=(10, 10))\n",
    "sns.heatmap(corr, annot=True, fmt='.2f')\n",
    "plt.show()\n"
   ]
  },
  {
   "cell_type": "markdown",
   "metadata": {},
   "source": [
    "K=3 untuk mengetahui tingkatan hepatitis dari tinggi, sedang, dan rendah"
   ]
  },
  {
   "cell_type": "code",
   "execution_count": null,
   "metadata": {},
   "outputs": [],
   "source": [
    "# k-means clustering\n",
    "from sklearn.cluster import KMeans\n",
    "\n",
    "\n",
    "kmeans = KMeans(n_clusters=5)\n",
    "kmeans.fit(df_scaled)\n",
    "y_kmeans = kmeans.predict(df_scaled)\n",
    "print(y_kmeans)\n",
    "\n",
    "# plot the clusters\n",
    "df_numeric['cluster'] = y_kmeans"
   ]
  },
  {
   "cell_type": "code",
   "execution_count": null,
   "metadata": {},
   "outputs": [],
   "source": [
    "\n",
    "sns.scatterplot(x='albumin', y='protime', hue='cluster', data=df_numeric, palette='viridis',marker=\"o\", s=75)\n",
    "# hide the legend\n",
    "plt.legend(loc='upper right', bbox_to_anchor=(1.3, 1), ncol=1)\n",
    "\n",
    "plt.title('K-Means Clustering Result')\n",
    "plt.xlabel('Albumin')\n",
    "plt.ylabel('protime')\n",
    "\n",
    "# increase size of the plot\n",
    "# plt.rcParams['figure.figsize'] = [10, 10]\n",
    "\n",
    "plt.show()"
   ]
  }
 ],
 "metadata": {
  "kernelspec": {
   "display_name": "Python 3.10.6 64-bit (microsoft store)",
   "language": "python",
   "name": "python3"
  },
  "language_info": {
   "codemirror_mode": {
    "name": "ipython",
    "version": 3
   },
   "file_extension": ".py",
   "mimetype": "text/x-python",
   "name": "python",
   "nbconvert_exporter": "python",
   "pygments_lexer": "ipython3",
   "version": "3.10.7"
  },
  "orig_nbformat": 4,
  "vscode": {
   "interpreter": {
    "hash": "ff7573f1831cb99fcd99b3a81494c967ce7bb90e5d2619f47f81c5d8e958e1df"
   }
  }
 },
 "nbformat": 4,
 "nbformat_minor": 2
}
